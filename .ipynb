{
 "cells": [
  {
   "cell_type": "code",
   "execution_count": 1,
   "metadata": {},
   "outputs": [],
   "source": [
    "import requests\n",
    "import pandas as pd\n"
   ]
  },
  {
   "cell_type": "code",
   "execution_count": 8,
   "metadata": {},
   "outputs": [
    {
     "data": {
      "text/html": [
       "<div>\n",
       "<style scoped>\n",
       "    .dataframe tbody tr th:only-of-type {\n",
       "        vertical-align: middle;\n",
       "    }\n",
       "\n",
       "    .dataframe tbody tr th {\n",
       "        vertical-align: top;\n",
       "    }\n",
       "\n",
       "    .dataframe thead th {\n",
       "        text-align: right;\n",
       "    }\n",
       "</style>\n",
       "<table border=\"1\" class=\"dataframe\">\n",
       "  <thead>\n",
       "    <tr style=\"text-align: right;\">\n",
       "      <th></th>\n",
       "      <th>success</th>\n",
       "      <th>message</th>\n",
       "      <th>result</th>\n",
       "    </tr>\n",
       "  </thead>\n",
       "  <tbody>\n",
       "    <tr>\n",
       "      <th>0</th>\n",
       "      <td>True</td>\n",
       "      <td></td>\n",
       "      <td>{'Asset': 'AXS', 'AssetLong': 'Axie Infinity S...</td>\n",
       "    </tr>\n",
       "    <tr>\n",
       "      <th>1</th>\n",
       "      <td>True</td>\n",
       "      <td></td>\n",
       "      <td>{'Asset': 'BTC', 'AssetLong': 'Bitcoin', 'MinC...</td>\n",
       "    </tr>\n",
       "    <tr>\n",
       "      <th>2</th>\n",
       "      <td>True</td>\n",
       "      <td></td>\n",
       "      <td>{'Asset': 'DOGE', 'AssetLong': 'Dogecoin', 'Mi...</td>\n",
       "    </tr>\n",
       "    <tr>\n",
       "      <th>3</th>\n",
       "      <td>True</td>\n",
       "      <td></td>\n",
       "      <td>{'Asset': 'ETH', 'AssetLong': 'Ethereum', 'Min...</td>\n",
       "    </tr>\n",
       "    <tr>\n",
       "      <th>4</th>\n",
       "      <td>True</td>\n",
       "      <td></td>\n",
       "      <td>{'Asset': 'LTC', 'AssetLong': 'Litecoin', 'Min...</td>\n",
       "    </tr>\n",
       "  </tbody>\n",
       "</table>\n",
       "</div>"
      ],
      "text/plain": [
       "   success message                                             result\n",
       "0     True          {'Asset': 'AXS', 'AssetLong': 'Axie Infinity S...\n",
       "1     True          {'Asset': 'BTC', 'AssetLong': 'Bitcoin', 'MinC...\n",
       "2     True          {'Asset': 'DOGE', 'AssetLong': 'Dogecoin', 'Mi...\n",
       "3     True          {'Asset': 'ETH', 'AssetLong': 'Ethereum', 'Min...\n",
       "4     True          {'Asset': 'LTC', 'AssetLong': 'Litecoin', 'Min..."
      ]
     },
     "execution_count": 8,
     "metadata": {},
     "output_type": "execute_result"
    }
   ],
   "source": [
    "r = requests.get('https://nova.bitcambio.com.br/api/v3/public/getassets')\n",
    "data = r.json()\n",
    "df = pd.DataFrame(data=data)\n",
    "df.head()\n"
   ]
  },
  {
   "cell_type": "code",
   "execution_count": 18,
   "metadata": {},
   "outputs": [
    {
     "name": "stdout",
     "output_type": "stream",
     "text": [
      "   success message                                             result\n",
      "0     True          {'Asset': 'AXS', 'AssetLong': 'Axie Infinity S...\n",
      "1     True          {'Asset': 'BTC', 'AssetLong': 'Bitcoin', 'MinC...\n",
      "2     True          {'Asset': 'DOGE', 'AssetLong': 'Dogecoin', 'Mi...\n",
      "3     True          {'Asset': 'ETH', 'AssetLong': 'Ethereum', 'Min...\n",
      "4     True          {'Asset': 'LTC', 'AssetLong': 'Litecoin', 'Min...\n",
      "5     True          {'Asset': 'BRL', 'AssetLong': 'Real', 'MinConf...\n",
      "6     True          {'Asset': 'USDT', 'AssetLong': 'Tether', 'MinC...\n"
     ]
    }
   ],
   "source": [
    "r = requests.get('https://nova.bitcambio.com.br/api/v3/public/getmarkethistory')\n",
    "print(df)"
   ]
  },
  {
   "cell_type": "code",
   "execution_count": 9,
   "metadata": {},
   "outputs": [
    {
     "name": "stdout",
     "output_type": "stream",
     "text": [
      "{'success': True, 'message': '', 'result': [{'Asset': 'AXS', 'AssetLong': 'Axie Infinity Shard', 'MinConfirmation': 4, 'WithdrawTxFee': 0, 'WithdrawTxFeePercent': 0, 'SystemProtocol': 'ETHERC20', 'IsActive': True, 'InfoMessage': '', 'MaintenanceMode': False, 'MaintenanceMessage': '', 'FormatPrefix': '', 'FormatSufix': '', 'DecimalSeparator': '.', 'ThousandSeparator': ',', 'DecimalPlaces': 8, 'withdrawal_fee_schedule': ''}, {'Asset': 'BTC', 'AssetLong': 'Bitcoin', 'MinConfirmation': 1, 'WithdrawTxFee': 0.0002, 'WithdrawTxFeePercent': 0, 'SystemProtocol': 'BITCOIN', 'IsActive': True, 'InfoMessage': '', 'MaintenanceMode': False, 'MaintenanceMessage': '', 'FormatPrefix': '฿ ', 'FormatSufix': '', 'DecimalSeparator': '.', 'ThousandSeparator': ',', 'DecimalPlaces': 6, 'withdrawal_fee_schedule': ''}, {'Asset': 'DOGE', 'AssetLong': 'Dogecoin', 'MinConfirmation': 2, 'WithdrawTxFee': 10, 'WithdrawTxFeePercent': 0, 'SystemProtocol': 'BITCOIN', 'IsActive': True, 'InfoMessage': '', 'MaintenanceMode': False, 'MaintenanceMessage': '', 'FormatPrefix': '', 'FormatSufix': '', 'DecimalSeparator': '.', 'ThousandSeparator': ',', 'DecimalPlaces': 8, 'withdrawal_fee_schedule': ''}, {'Asset': 'ETH', 'AssetLong': 'Ethereum', 'MinConfirmation': 4, 'WithdrawTxFee': 0.002, 'WithdrawTxFeePercent': 0, 'SystemProtocol': 'ETHEREUM', 'IsActive': True, 'InfoMessage': '', 'MaintenanceMode': False, 'MaintenanceMessage': '', 'FormatPrefix': '', 'FormatSufix': '', 'DecimalSeparator': '.', 'ThousandSeparator': ',', 'DecimalPlaces': 4, 'withdrawal_fee_schedule': ''}, {'Asset': 'LTC', 'AssetLong': 'Litecoin', 'MinConfirmation': 2, 'WithdrawTxFee': 0.001, 'WithdrawTxFeePercent': 0, 'SystemProtocol': 'BITCOIN', 'IsActive': True, 'InfoMessage': '', 'MaintenanceMode': False, 'MaintenanceMessage': '', 'FormatPrefix': '', 'FormatSufix': '', 'DecimalSeparator': '.', 'ThousandSeparator': ',', 'DecimalPlaces': 8, 'withdrawal_fee_schedule': ''}, {'Asset': 'BRL', 'AssetLong': 'Real', 'MinConfirmation': 1, 'WithdrawTxFee': 10.99, 'WithdrawTxFeePercent': 0.99, 'SystemProtocol': 'FIAT', 'IsActive': True, 'InfoMessage': '', 'MaintenanceMode': False, 'MaintenanceMessage': '', 'FormatPrefix': 'R$ ', 'FormatSufix': '', 'DecimalSeparator': ',', 'ThousandSeparator': '.', 'DecimalPlaces': 2, 'withdrawal_fee_schedule': 'fixed-and-percent'}, {'Asset': 'USDT', 'AssetLong': 'Tether', 'MinConfirmation': 4, 'WithdrawTxFee': 0.1, 'WithdrawTxFeePercent': 0, 'SystemProtocol': 'ETHERC20', 'IsActive': True, 'InfoMessage': '', 'MaintenanceMode': False, 'MaintenanceMessage': '', 'FormatPrefix': '', 'FormatSufix': '', 'DecimalSeparator': '.', 'ThousandSeparator': ',', 'DecimalPlaces': 6, 'withdrawal_fee_schedule': ''}]}\n"
     ]
    }
   ],
   "source": [
    "print(data)"
   ]
  },
  {
   "cell_type": "code",
   "execution_count": 11,
   "metadata": {},
   "outputs": [
    {
     "data": {
      "text/html": [
       "<div>\n",
       "<style scoped>\n",
       "    .dataframe tbody tr th:only-of-type {\n",
       "        vertical-align: middle;\n",
       "    }\n",
       "\n",
       "    .dataframe tbody tr th {\n",
       "        vertical-align: top;\n",
       "    }\n",
       "\n",
       "    .dataframe thead th {\n",
       "        text-align: right;\n",
       "    }\n",
       "</style>\n",
       "<table border=\"1\" class=\"dataframe\">\n",
       "  <thead>\n",
       "    <tr style=\"text-align: right;\">\n",
       "      <th></th>\n",
       "      <th>success</th>\n",
       "      <th>message</th>\n",
       "      <th>result</th>\n",
       "    </tr>\n",
       "  </thead>\n",
       "  <tbody>\n",
       "    <tr>\n",
       "      <th>count</th>\n",
       "      <td>7</td>\n",
       "      <td>7</td>\n",
       "      <td>7</td>\n",
       "    </tr>\n",
       "    <tr>\n",
       "      <th>unique</th>\n",
       "      <td>1</td>\n",
       "      <td>1</td>\n",
       "      <td>7</td>\n",
       "    </tr>\n",
       "    <tr>\n",
       "      <th>top</th>\n",
       "      <td>True</td>\n",
       "      <td></td>\n",
       "      <td>{'Asset': 'AXS', 'AssetLong': 'Axie Infinity S...</td>\n",
       "    </tr>\n",
       "    <tr>\n",
       "      <th>freq</th>\n",
       "      <td>7</td>\n",
       "      <td>7</td>\n",
       "      <td>1</td>\n",
       "    </tr>\n",
       "  </tbody>\n",
       "</table>\n",
       "</div>"
      ],
      "text/plain": [
       "       success message                                             result\n",
       "count        7       7                                                  7\n",
       "unique       1       1                                                  7\n",
       "top       True          {'Asset': 'AXS', 'AssetLong': 'Axie Infinity S...\n",
       "freq         7       7                                                  1"
      ]
     },
     "execution_count": 11,
     "metadata": {},
     "output_type": "execute_result"
    }
   ],
   "source": [
    "df.describe()"
   ]
  },
  {
   "cell_type": "code",
   "execution_count": 19,
   "metadata": {},
   "outputs": [
    {
     "data": {
      "text/plain": [
       "(7, 3)"
      ]
     },
     "execution_count": 19,
     "metadata": {},
     "output_type": "execute_result"
    }
   ],
   "source": [
    "df.shape"
   ]
  },
  {
   "cell_type": "code",
   "execution_count": 27,
   "metadata": {},
   "outputs": [
    {
     "data": {
      "text/html": [
       "<div>\n",
       "<style scoped>\n",
       "    .dataframe tbody tr th:only-of-type {\n",
       "        vertical-align: middle;\n",
       "    }\n",
       "\n",
       "    .dataframe tbody tr th {\n",
       "        vertical-align: top;\n",
       "    }\n",
       "\n",
       "    .dataframe thead th {\n",
       "        text-align: right;\n",
       "    }\n",
       "</style>\n",
       "<table border=\"1\" class=\"dataframe\">\n",
       "  <thead>\n",
       "    <tr style=\"text-align: right;\">\n",
       "      <th></th>\n",
       "      <th>success</th>\n",
       "      <th>message</th>\n",
       "      <th>result</th>\n",
       "    </tr>\n",
       "  </thead>\n",
       "  <tbody>\n",
       "  </tbody>\n",
       "</table>\n",
       "</div>"
      ],
      "text/plain": [
       "Empty DataFrame\n",
       "Columns: [success, message, result]\n",
       "Index: []"
      ]
     },
     "execution_count": 27,
     "metadata": {},
     "output_type": "execute_result"
    }
   ],
   "source": [
    "df[df['message'] == 'result']"
   ]
  },
  {
   "cell_type": "code",
   "execution_count": 28,
   "metadata": {},
   "outputs": [
    {
     "data": {
      "text/html": [
       "<div>\n",
       "<style scoped>\n",
       "    .dataframe tbody tr th:only-of-type {\n",
       "        vertical-align: middle;\n",
       "    }\n",
       "\n",
       "    .dataframe tbody tr th {\n",
       "        vertical-align: top;\n",
       "    }\n",
       "\n",
       "    .dataframe thead th {\n",
       "        text-align: right;\n",
       "    }\n",
       "</style>\n",
       "<table border=\"1\" class=\"dataframe\">\n",
       "  <thead>\n",
       "    <tr style=\"text-align: right;\">\n",
       "      <th></th>\n",
       "      <th>success</th>\n",
       "      <th>message</th>\n",
       "    </tr>\n",
       "  </thead>\n",
       "  <tbody>\n",
       "    <tr>\n",
       "      <th>0</th>\n",
       "      <td>True</td>\n",
       "      <td></td>\n",
       "    </tr>\n",
       "    <tr>\n",
       "      <th>1</th>\n",
       "      <td>True</td>\n",
       "      <td></td>\n",
       "    </tr>\n",
       "    <tr>\n",
       "      <th>2</th>\n",
       "      <td>True</td>\n",
       "      <td></td>\n",
       "    </tr>\n",
       "    <tr>\n",
       "      <th>3</th>\n",
       "      <td>True</td>\n",
       "      <td></td>\n",
       "    </tr>\n",
       "    <tr>\n",
       "      <th>4</th>\n",
       "      <td>True</td>\n",
       "      <td></td>\n",
       "    </tr>\n",
       "  </tbody>\n",
       "</table>\n",
       "</div>"
      ],
      "text/plain": [
       "   success message\n",
       "0     True        \n",
       "1     True        \n",
       "2     True        \n",
       "3     True        \n",
       "4     True        "
      ]
     },
     "execution_count": 28,
     "metadata": {},
     "output_type": "execute_result"
    }
   ],
   "source": [
    "df[['success','message']].head()"
   ]
  },
  {
   "cell_type": "code",
   "execution_count": 31,
   "metadata": {},
   "outputs": [
    {
     "data": {
      "text/html": [
       "<div>\n",
       "<style scoped>\n",
       "    .dataframe tbody tr th:only-of-type {\n",
       "        vertical-align: middle;\n",
       "    }\n",
       "\n",
       "    .dataframe tbody tr th {\n",
       "        vertical-align: top;\n",
       "    }\n",
       "\n",
       "    .dataframe thead th {\n",
       "        text-align: right;\n",
       "    }\n",
       "</style>\n",
       "<table border=\"1\" class=\"dataframe\">\n",
       "  <thead>\n",
       "    <tr style=\"text-align: right;\">\n",
       "      <th></th>\n",
       "      <th>success</th>\n",
       "      <th>message</th>\n",
       "      <th>result</th>\n",
       "    </tr>\n",
       "  </thead>\n",
       "  <tbody>\n",
       "    <tr>\n",
       "      <th>2</th>\n",
       "      <td>True</td>\n",
       "      <td></td>\n",
       "      <td>{'Asset': 'DOGE', 'AssetLong': 'Dogecoin', 'Mi...</td>\n",
       "    </tr>\n",
       "    <tr>\n",
       "      <th>3</th>\n",
       "      <td>True</td>\n",
       "      <td></td>\n",
       "      <td>{'Asset': 'ETH', 'AssetLong': 'Ethereum', 'Min...</td>\n",
       "    </tr>\n",
       "    <tr>\n",
       "      <th>4</th>\n",
       "      <td>True</td>\n",
       "      <td></td>\n",
       "      <td>{'Asset': 'LTC', 'AssetLong': 'Litecoin', 'Min...</td>\n",
       "    </tr>\n",
       "    <tr>\n",
       "      <th>5</th>\n",
       "      <td>True</td>\n",
       "      <td></td>\n",
       "      <td>{'Asset': 'BRL', 'AssetLong': 'Real', 'MinConf...</td>\n",
       "    </tr>\n",
       "  </tbody>\n",
       "</table>\n",
       "</div>"
      ],
      "text/plain": [
       "   success message                                             result\n",
       "2     True          {'Asset': 'DOGE', 'AssetLong': 'Dogecoin', 'Mi...\n",
       "3     True          {'Asset': 'ETH', 'AssetLong': 'Ethereum', 'Min...\n",
       "4     True          {'Asset': 'LTC', 'AssetLong': 'Litecoin', 'Min...\n",
       "5     True          {'Asset': 'BRL', 'AssetLong': 'Real', 'MinConf..."
      ]
     },
     "execution_count": 31,
     "metadata": {},
     "output_type": "execute_result"
    }
   ],
   "source": [
    "df.iloc[2:6]"
   ]
  },
  {
   "cell_type": "code",
   "execution_count": 43,
   "metadata": {},
   "outputs": [
    {
     "data": {
      "text/plain": [
       "<bound method DataFrame.query of    success message                                             result\n",
       "0     True          {'Asset': 'AXS', 'AssetLong': 'Axie Infinity S...\n",
       "1     True          {'Asset': 'BTC', 'AssetLong': 'Bitcoin', 'MinC...\n",
       "2     True          {'Asset': 'DOGE', 'AssetLong': 'Dogecoin', 'Mi...\n",
       "3     True          {'Asset': 'ETH', 'AssetLong': 'Ethereum', 'Min...\n",
       "4     True          {'Asset': 'LTC', 'AssetLong': 'Litecoin', 'Min...\n",
       "5     True          {'Asset': 'BRL', 'AssetLong': 'Real', 'MinConf...\n",
       "6     True          {'Asset': 'USDT', 'AssetLong': 'Tether', 'MinC...>"
      ]
     },
     "execution_count": 43,
     "metadata": {},
     "output_type": "execute_result"
    }
   ],
   "source": [
    "from unicodedata import category\n",
    "\n",
    "\n",
    "df.query"
   ]
  },
  {
   "cell_type": "code",
   "execution_count": 46,
   "metadata": {},
   "outputs": [
    {
     "ename": "AttributeError",
     "evalue": "'DataFrame' object has no attribute 'show'",
     "output_type": "error",
     "traceback": [
      "\u001b[1;31m---------------------------------------------------------------------------\u001b[0m",
      "\u001b[1;31mAttributeError\u001b[0m                            Traceback (most recent call last)",
      "\u001b[1;32mc:\\Users\\John\\data_1_checks\\data_1_checks\\.ipynb Cell 11\u001b[0m in \u001b[0;36m<cell line: 1>\u001b[1;34m()\u001b[0m\n\u001b[1;32m----> <a href='vscode-notebook-cell:/c%3A/Users/John/data_1_checks/data_1_checks/.ipynb#X21sZmlsZQ%3D%3D?line=0'>1</a>\u001b[0m df\u001b[39m.\u001b[39;49mshow(\u001b[39m'\u001b[39m\u001b[39mBitcoin\u001b[39m\u001b[39m'\u001b[39m)\n",
      "File \u001b[1;32mc:\\Users\\John\\AppData\\Local\\Programs\\Python\\Python310\\lib\\site-packages\\pandas\\core\\generic.py:5575\u001b[0m, in \u001b[0;36mNDFrame.__getattr__\u001b[1;34m(self, name)\u001b[0m\n\u001b[0;32m   5568\u001b[0m \u001b[39mif\u001b[39;00m (\n\u001b[0;32m   5569\u001b[0m     name \u001b[39mnot\u001b[39;00m \u001b[39min\u001b[39;00m \u001b[39mself\u001b[39m\u001b[39m.\u001b[39m_internal_names_set\n\u001b[0;32m   5570\u001b[0m     \u001b[39mand\u001b[39;00m name \u001b[39mnot\u001b[39;00m \u001b[39min\u001b[39;00m \u001b[39mself\u001b[39m\u001b[39m.\u001b[39m_metadata\n\u001b[0;32m   5571\u001b[0m     \u001b[39mand\u001b[39;00m name \u001b[39mnot\u001b[39;00m \u001b[39min\u001b[39;00m \u001b[39mself\u001b[39m\u001b[39m.\u001b[39m_accessors\n\u001b[0;32m   5572\u001b[0m     \u001b[39mand\u001b[39;00m \u001b[39mself\u001b[39m\u001b[39m.\u001b[39m_info_axis\u001b[39m.\u001b[39m_can_hold_identifiers_and_holds_name(name)\n\u001b[0;32m   5573\u001b[0m ):\n\u001b[0;32m   5574\u001b[0m     \u001b[39mreturn\u001b[39;00m \u001b[39mself\u001b[39m[name]\n\u001b[1;32m-> 5575\u001b[0m \u001b[39mreturn\u001b[39;00m \u001b[39mobject\u001b[39;49m\u001b[39m.\u001b[39;49m\u001b[39m__getattribute__\u001b[39;49m(\u001b[39mself\u001b[39;49m, name)\n",
      "\u001b[1;31mAttributeError\u001b[0m: 'DataFrame' object has no attribute 'show'"
     ]
    }
   ],
   "source": [
    "\n"
   ]
  },
  {
   "cell_type": "code",
   "execution_count": null,
   "metadata": {},
   "outputs": [],
   "source": []
  }
 ],
 "metadata": {
  "kernelspec": {
   "display_name": "Python 3.10.4 64-bit",
   "language": "python",
   "name": "python3"
  },
  "language_info": {
   "codemirror_mode": {
    "name": "ipython",
    "version": 3
   },
   "file_extension": ".py",
   "mimetype": "text/x-python",
   "name": "python",
   "nbconvert_exporter": "python",
   "pygments_lexer": "ipython3",
   "version": "3.10.4"
  },
  "orig_nbformat": 4,
  "vscode": {
   "interpreter": {
    "hash": "882ff7038df49cc7fe29560075f5cb1e01e62ef6492096b31436eb4923d2c412"
   }
  }
 },
 "nbformat": 4,
 "nbformat_minor": 2
}
